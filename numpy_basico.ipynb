{
 "cells": [
  {
   "cell_type": "markdown",
   "metadata": {},
   "source": [
    "# Numpy\n",
    "\n",
    "¿Cuál es el hype de Numpy?\n",
    "\n",
    "Hemos mencionado que es una paquetería utilizada ampliamente en la industria, pero ¿qué la hace tan especial?\n",
    "\n",
    "Comencemos explorando el objeto principal de Numpy: el `ndarray`.\n",
    "\n",
    "## `ndarray`\n",
    "**Un ndarray (N-dimensional array) es la estructura de datos principal de NumPy que permite almacenar y manipular arrays (arreglos) multidimensionales de forma eficiente. Proporciona operaciones rápidas y flexibles para realizar cálculos numéricos y transformaciones en grandes conjuntos de datos.**\n",
    "\n",
    "En un ndarray podemos almacenar elementos de un mismo tipo de dato. Aquí uno podría preguntarse\n",
    "\n",
    "**¿cuál es la ventaja o el beneficio de usar un ndarray de Numpy sobre una lista ordinaria de Python?**\n",
    "\n",
    "Numpy tiene ventajas significativas sobre listas ordinarias, descubrámoslas con ejemplos prácticos\n",
    "\n",
    "---\n",
    "\n",
    "## Crear un arreglo de Numpy\n",
    "Hay más de una forma (como es costumbre en Python) para crear un array. La más común es pasarle una lista a la función `np.array`"
   ]
  },
  {
   "cell_type": "code",
   "metadata": {
    "ExecuteTime": {
     "end_time": "2025-10-24T19:37:05.575518Z",
     "start_time": "2025-10-24T19:37:05.555132Z"
    }
   },
   "source": [
    "#Importamos numpy como np (SIEMPRE)\n",
    "import numpy as np"
   ],
   "outputs": [],
   "execution_count": 50
  },
  {
   "cell_type": "code",
   "metadata": {
    "ExecuteTime": {
     "end_time": "2025-10-24T19:37:05.610619Z",
     "start_time": "2025-10-24T19:37:05.599991Z"
    }
   },
   "source": [
    "lista = [0,1,2,3,4]\n",
    "array_1d = np.array(lista)\n",
    "\n",
    "#Checamos el tipo de dato de array_id\n",
    "type(array_1d)"
   ],
   "outputs": [
    {
     "data": {
      "text/plain": [
       "numpy.ndarray"
      ]
     },
     "execution_count": 51,
     "metadata": {},
     "output_type": "execute_result"
    }
   ],
   "execution_count": 51
  },
  {
   "cell_type": "code",
   "metadata": {
    "ExecuteTime": {
     "end_time": "2025-10-24T19:37:05.724606Z",
     "start_time": "2025-10-24T19:37:05.715625Z"
    }
   },
   "source": [
    "type(1.2)"
   ],
   "outputs": [
    {
     "data": {
      "text/plain": [
       "float"
      ]
     },
     "execution_count": 52,
     "metadata": {},
     "output_type": "execute_result"
    }
   ],
   "execution_count": 52
  },
  {
   "cell_type": "code",
   "metadata": {
    "ExecuteTime": {
     "end_time": "2025-10-24T19:37:05.832211Z",
     "start_time": "2025-10-24T19:37:05.820653Z"
    }
   },
   "source": [
    "#contenido del array\n",
    "array_1d"
   ],
   "outputs": [
    {
     "data": {
      "text/plain": [
       "array([0, 1, 2, 3, 4])"
      ]
     },
     "execution_count": 53,
     "metadata": {},
     "output_type": "execute_result"
    }
   ],
   "execution_count": 53
  },
  {
   "cell_type": "markdown",
   "metadata": {},
   "source": [
    "## Diferencia entre ndarray y lista"
   ]
  },
  {
   "cell_type": "markdown",
   "metadata": {},
   "source": [
    "La diferencia principal entre un `array` y una `list` es que los `arrays` están diseñados para procesar operaciones vectorizadas, mientras que una lista no tiene estas capacidades.\n",
    "\n",
    "Sea $\\vec{x}$ un vector tal que $\\vec{x} = (0 , 1, 2, 3, 4)$\n",
    "\n",
    "$$\\vec{x} + a = (0 + a, 1 + a, 2 + a, 3 + a, 4 + a)$$\n",
    "\n",
    "Entonces, si $a = 2$\n",
    "$$ \\vec{x} + 2 = (0 +2, 1 + 2, 2 + 2, 3 + 2, 4 + 2) $$\n",
    "$$ \\vec{x} + 2 = (2, 3, 4, 5, 6) $$\n",
    "\n",
    "Esto significa que si aplicamos una función a un `array` entonces la función se va a aplicar a **cada elemento del array**\n",
    "\n",
    "Veamos un ejemplo:\n",
    "\n",
    "Si quisieramos sumar 2 a cada elemento de la `lista`, intuitivamente podríamos intentar:"
   ]
  },
  {
   "cell_type": "code",
   "metadata": {
    "ExecuteTime": {
     "end_time": "2025-10-24T19:37:05.963925Z",
     "start_time": "2025-10-24T19:37:05.954399Z"
    }
   },
   "source": [
    "lista"
   ],
   "outputs": [
    {
     "data": {
      "text/plain": [
       "[0, 1, 2, 3, 4]"
      ]
     },
     "execution_count": 54,
     "metadata": {},
     "output_type": "execute_result"
    }
   ],
   "execution_count": 54
  },
  {
   "cell_type": "code",
   "metadata": {
    "ExecuteTime": {
     "end_time": "2025-10-24T19:37:06.069699Z",
     "start_time": "2025-10-24T19:37:06.061699Z"
    }
   },
   "source": "lista",
   "outputs": [
    {
     "data": {
      "text/plain": [
       "[0, 1, 2, 3, 4]"
      ]
     },
     "execution_count": 55,
     "metadata": {},
     "output_type": "execute_result"
    }
   ],
   "execution_count": 55
  },
  {
   "cell_type": "markdown",
   "metadata": {},
   "source": [
    "Como podemos ver, no es posible hacer esto con listas. Probemos ahora con `array_1d`"
   ]
  },
  {
   "cell_type": "code",
   "metadata": {
    "ExecuteTime": {
     "end_time": "2025-10-24T19:37:06.173201Z",
     "start_time": "2025-10-24T19:37:06.164365Z"
    }
   },
   "source": [
    "array_1d + 2"
   ],
   "outputs": [
    {
     "data": {
      "text/plain": [
       "array([2, 3, 4, 5, 6])"
      ]
     },
     "execution_count": 56,
     "metadata": {},
     "output_type": "execute_result"
    }
   ],
   "execution_count": 56
  },
  {
   "cell_type": "markdown",
   "metadata": {},
   "source": [
    "---"
   ]
  },
  {
   "cell_type": "markdown",
   "metadata": {},
   "source": [
    "### Otro ejemplo: Multiplicación de matrices\n",
    "\n",
    "Veamos una multiplicación de matrices con Numpy.\n",
    "\n",
    "$A=\\begin{bmatrix}\n",
    "1 & 2 & 3 \\\\\n",
    "4 & 5 & 6\n",
    "\\end{bmatrix}$ , $B=\\begin{bmatrix}\n",
    "7 & 8 \\\\\n",
    "9 & 10 \\\\\n",
    "11 & 12\n",
    "\\end{bmatrix}$ \n",
    "\n",
    "Recordemos de la materia de Álgebra Lineal que:\n",
    "Sean A y B, 2 matrices\n",
    "\n",
    "$\\begin{bmatrix}\n",
    "a_{11} & a_{12} & a_{13} \\\\\n",
    "a_{21} & a_{22} & a_{23}\n",
    "\\end{bmatrix}\n",
    "\\begin{bmatrix}\n",
    "b_{11} & b_{12} \\\\\n",
    "b_{21} & b_{22} \\\\\n",
    "b_{31} & b_{32}\n",
    "\\end{bmatrix}\n",
    "=\n",
    "\\begin{bmatrix}\n",
    "a_{11}b_{11} + a_{12}b_{21} + a_{13}b_{31} & a_{11}b_{12} + a_{12}b_{22} + a_{13}b_{32} \\\\\n",
    "a_{21}b_{11} + a_{22}b_{21} + a_{23}b_{31} & a_{21}b_{12} + a_{22}b_{22} + a_{23}b_{32}\n",
    "\\end{bmatrix}$\n",
    "\n",
    "---\n",
    "\n",
    "Antes de apreciar la **BELLEZA** de Numpy, hagamos una implementación de multiplicación de matrices sin utilizar numpy:"
   ]
  },
  {
   "cell_type": "code",
   "metadata": {
    "ExecuteTime": {
     "end_time": "2025-10-24T19:37:06.266557Z",
     "start_time": "2025-10-24T19:37:06.256252Z"
    }
   },
   "source": [
    "def multiplicar_matrices(A, B):\n",
    "    # obtener dimensiones\n",
    "    filas_A = len(A)\n",
    "    cols_A = len(A[0])\n",
    "    filas_B = len(B)\n",
    "    cols_B = len(B[0])\n",
    "\n",
    "    # checar si se pueden multiplicar A y B\n",
    "    if cols_A != filas_B:\n",
    "        raise ValueError(\"El número de columnas de A debe ser igual al número de filas de B\")\n",
    "\n",
    "    # Inicializar una matriz vacía con ceros\n",
    "    matriz_resultado = []\n",
    "    for _ in range(filas_A):\n",
    "        fila = []\n",
    "        for _ in range(cols_B):\n",
    "            fila.append(0)\n",
    "        matriz_resultado.append(fila)\n",
    "\n",
    "    # realizar multiplicación\n",
    "    for i in range(filas_A):\n",
    "        for j in range(cols_B):\n",
    "            for k in range(cols_A):\n",
    "                matriz_resultado[i][j] += A[i][k] * B[k][j]\n",
    "\n",
    "    return matriz_resultado\n",
    "\n",
    "# Ejemplo\n",
    "A = [\n",
    "    [1, 2, 3],\n",
    "    [4, 5, 6]\n",
    "]\n",
    "B = [\n",
    "    [7, 8],\n",
    "    [9, 10],\n",
    "    [11, 12]\n",
    "]\n",
    "C = multiplicar_matrices(A, B)\n",
    "print(C)"
   ],
   "outputs": [
    {
     "name": "stdout",
     "output_type": "stream",
     "text": [
      "[[58, 64], [139, 154]]\n"
     ]
    }
   ],
   "execution_count": 57
  },
  {
   "cell_type": "markdown",
   "metadata": {},
   "source": [
    "**¿Nada mal no?**\n",
    "\n",
    "Y de hecho se ejecutó bastante rápido… Pongámosle más estrés a Python con multiplicaciones de matrices más grandes, y contemos cuánto tarda en multiplicar cada una de ellas:\n",
    "\n",
    "### Función para crear una matriz de NxN con números aleatorios"
   ]
  },
  {
   "cell_type": "code",
   "metadata": {
    "ExecuteTime": {
     "end_time": "2025-10-24T19:37:06.358989Z",
     "start_time": "2025-10-24T19:37:06.350858Z"
    }
   },
   "source": [
    "import random\n",
    "\n",
    "def generar_matriz_aleatoria(N):\n",
    "    matriz = []\n",
    "    for i in range(N):\n",
    "        fila = []\n",
    "        for j in range(N):\n",
    "            fila.append(random.randint(1, 9))\n",
    "        matriz.append(fila)\n",
    "    return matriz\n",
    "\n",
    "\n",
    "N = 5\n",
    "matriz_aleatoria = generar_matriz_aleatoria(N)\n",
    "for fila in matriz_aleatoria:\n",
    "    print(fila)"
   ],
   "outputs": [
    {
     "name": "stdout",
     "output_type": "stream",
     "text": [
      "[1, 3, 1, 8, 5]\n",
      "[3, 2, 4, 3, 9]\n",
      "[7, 5, 1, 6, 5]\n",
      "[1, 2, 8, 3, 1]\n",
      "[1, 7, 5, 4, 3]\n"
     ]
    }
   ],
   "execution_count": 58
  },
  {
   "cell_type": "markdown",
   "metadata": {},
   "source": [
    "### Función para imprimir una matriz en formato amigable"
   ]
  },
  {
   "cell_type": "code",
   "metadata": {
    "ExecuteTime": {
     "end_time": "2025-10-24T19:37:06.455631Z",
     "start_time": "2025-10-24T19:37:06.449031Z"
    }
   },
   "source": [
    "def imprimir_matriz(matriz):\n",
    "    for fila in matriz:\n",
    "        fila_formateada = ' '.join(f'{elemento:2}' for elemento in fila)\n",
    "        print(fila_formateada)"
   ],
   "outputs": [],
   "execution_count": 59
  },
  {
   "cell_type": "markdown",
   "metadata": {},
   "source": [
    "### Creación e impresión de las matrices"
   ]
  },
  {
   "cell_type": "code",
   "metadata": {
    "ExecuteTime": {
     "end_time": "2025-10-24T19:37:06.496958Z",
     "start_time": "2025-10-24T19:37:06.478536Z"
    }
   },
   "source": [
    "print(\"Matríz de 5x5:\")\n",
    "m_5 = generar_matriz_aleatoria(5)\n",
    "imprimir_matriz(m_5)\n",
    "print(\"====================\")\n",
    "print(\"Matríz de 10x10:\")\n",
    "m_10 = generar_matriz_aleatoria(10)\n",
    "imprimir_matriz(m_10)\n",
    "print(\"====================\")\n",
    "print(\"Matríz de 20x20:\")\n",
    "m_20 = generar_matriz_aleatoria(20)\n",
    "imprimir_matriz(m_20)\n",
    "print(\"====================\")\n",
    "m_100 = generar_matriz_aleatoria(100)"
   ],
   "outputs": [
    {
     "name": "stdout",
     "output_type": "stream",
     "text": [
      "Matríz de 5x5:\n",
      " 7  1  3  6  8\n",
      " 5  5  6  7  7\n",
      " 7  6  9  8  2\n",
      " 7  1  9  4  2\n",
      " 7  4  9  6  7\n",
      "====================\n",
      "Matríz de 10x10:\n",
      " 7  3  2  1  8  7  7  5  1  3\n",
      " 7  9  3  7  8  4  5  4  7  6\n",
      " 6  4  1  5  6  2  1  3  2  6\n",
      " 6  1  7  2  4  8  9  1  9  5\n",
      " 6  4  8  8  1  8  6  4  4  9\n",
      " 5  4  1  2  9  7  8  4  2  9\n",
      " 9  8  3  5  2  2  9  3  4  4\n",
      " 5  3  6  4  1  9  2  2  3  3\n",
      " 6  5  5  1  3  4  9  6  2  1\n",
      " 9  5  4  3  2  9  1  6  6  8\n",
      "====================\n",
      "Matríz de 20x20:\n",
      " 8  1  6  3  4  4  9  6  3  8  9  5  4  7  4  6  8  2  7  5\n",
      " 6  9  6  1  4  2  9  6  7  3  8  3  9  4  9  8  6  9  8  6\n",
      " 6  7  7  3  7  6  5  2  3  7  1  6  5  9  7  1  4  1  1  9\n",
      " 7  6  2  7  2  2  7  4  5  9  5  1  6  5  2  3  4  9  5  5\n",
      " 5  8  2  7  8  4  7  2  3  5  4  5  7  6  8  8  9  1  9  3\n",
      " 8  2  6  7  7  6  2  9  9  4  5  2  3  9  4  3  4  8  6  4\n",
      " 2  7  4  3  2  8  4  9  9  3  8  1  2  5  3  1  9  7  3  3\n",
      " 6  1  5  9  2  7  8  1  1  2  6  1  7  5  4  2  9  3  2  9\n",
      " 9  4  3  3  7  9  2  5  8  4  9  7  2  7  8  2  5  7  8  9\n",
      " 1  8  8  7  4  9  8  1  3  8  3  7  6  6  4  5  9  5  9  9\n",
      " 2  3  2  9  2  5  2  6  5  9  6  4  7  5  7  5  1  9  8  7\n",
      " 4  6  6  4  9  5  4  8  1  7  8  1  9  2  6  7  7  2  6  1\n",
      " 4  2  4  9  4  8  6  1  6  3  1  2  6  3  8  6  9  6  3  2\n",
      " 8  1  9  4  9  3  2  7  6  4  3  6  4  5  5  6  9  7  5  7\n",
      " 4  2  5  5  4  9  7  4  3  6  9  9  3  5  5  9  9  8  4  4\n",
      " 3  6  7  4  4  6  7  9  2  6  6  7  7  2  6  5  2  8  7  1\n",
      " 5  9  4  2  2  2  8  4  8  8  7  1  5  7  7  9  1  1  8  8\n",
      " 1  9  4  3  4  1  4  2  9  5  7  4  3  2  2  4  9  3  3  9\n",
      " 9  3  9  7  1  6  6  6  4  6  3  5  2  3  1  6  5  8  1  6\n",
      " 6  2  6  5  7  4  2  8  8  4  4  7  5  2  5  9  6  1  4  9\n",
      "====================\n"
     ]
    }
   ],
   "execution_count": 60
  },
  {
   "cell_type": "markdown",
   "metadata": {},
   "source": [
    "---\n",
    "Ahora midamos el tiempo que tardamos en multiplicar cada una de las matrices por sí misma. Utilizaremos código como éste\n",
    "```python\n",
    "start = time.time()\n",
    "# ejecutar código\n",
    "end = time.time()\n",
    "tiempo = round(end - start, 5)\n",
    "print(f\"La ejecución tardó {tiempo} seg.\")\n",
    "```"
   ]
  },
  {
   "cell_type": "code",
   "metadata": {
    "ExecuteTime": {
     "end_time": "2025-10-24T19:37:06.555129Z",
     "start_time": "2025-10-24T19:37:06.549330Z"
    }
   },
   "source": [
    "import time"
   ],
   "outputs": [],
   "execution_count": 61
  },
  {
   "cell_type": "markdown",
   "metadata": {},
   "source": [
    "**Comencemos con la matrices de 5x5**"
   ]
  },
  {
   "cell_type": "code",
   "metadata": {
    "ExecuteTime": {
     "end_time": "2025-10-24T19:37:06.590665Z",
     "start_time": "2025-10-24T19:37:06.581558Z"
    }
   },
   "source": [
    "start = time.time()\n",
    "multiplicar_matrices(m_5, m_5)\n",
    "end = time.time()\n",
    "tiempo = end - start\n",
    "print(f\"Multiplicar dos matrices de 5x5 tardó {tiempo} seg.\")"
   ],
   "outputs": [
    {
     "name": "stdout",
     "output_type": "stream",
     "text": [
      "Multiplicar dos matrices de 5x5 tardó 0.00015687942504882812 seg.\n"
     ]
    }
   ],
   "execution_count": 62
  },
  {
   "cell_type": "markdown",
   "metadata": {},
   "source": [
    "**Nada mal… Veamos ahora 10x10**"
   ]
  },
  {
   "cell_type": "code",
   "metadata": {
    "ExecuteTime": {
     "end_time": "2025-10-24T19:37:06.702489Z",
     "start_time": "2025-10-24T19:37:06.692354Z"
    }
   },
   "source": [
    "start = time.time()\n",
    "multiplicar_matrices(m_10, m_10)\n",
    "end = time.time()\n",
    "tiempo = end - start\n",
    "print(f\"Multiplicar dos matrices de 10x10 tardó {tiempo} seg.\")"
   ],
   "outputs": [
    {
     "name": "stdout",
     "output_type": "stream",
     "text": [
      "Multiplicar dos matrices de 10x10 tardó 0.00041365623474121094 seg.\n"
     ]
    }
   ],
   "execution_count": 63
  },
  {
   "cell_type": "markdown",
   "metadata": {},
   "source": [
    "**Parece que va bastante rápido... Intentemos ahora con una matriz de 1000x1000**"
   ]
  },
  {
   "cell_type": "code",
   "metadata": {
    "ExecuteTime": {
     "end_time": "2025-10-24T19:37:09.814246Z",
     "start_time": "2025-10-24T19:37:06.805882Z"
    }
   },
   "source": [
    "m_1000 = generar_matriz_aleatoria(1000)\n",
    "start = time.time()\n",
    "multiplicar_matrices(m_1000, m_1000)\n",
    "end = time.time()\n",
    "tiempo = end - start\n",
    "print(f\"Multiplicar dos matrices de 1000x1000 tardó {tiempo} seg.\")"
   ],
   "outputs": [
    {
     "ename": "KeyboardInterrupt",
     "evalue": "",
     "output_type": "error",
     "traceback": [
      "\u001B[31m---------------------------------------------------------------------------\u001B[39m",
      "\u001B[31mKeyboardInterrupt\u001B[39m                         Traceback (most recent call last)",
      "\u001B[36mCell\u001B[39m\u001B[36m \u001B[39m\u001B[32mIn[64]\u001B[39m\u001B[32m, line 3\u001B[39m\n\u001B[32m      1\u001B[39m m_1000 = generar_matriz_aleatoria(\u001B[32m1000\u001B[39m)\n\u001B[32m      2\u001B[39m start = time.time()\n\u001B[32m----> \u001B[39m\u001B[32m3\u001B[39m \u001B[43mmultiplicar_matrices\u001B[49m\u001B[43m(\u001B[49m\u001B[43mm_1000\u001B[49m\u001B[43m,\u001B[49m\u001B[43m \u001B[49m\u001B[43mm_1000\u001B[49m\u001B[43m)\u001B[49m\n\u001B[32m      4\u001B[39m end = time.time()\n\u001B[32m      5\u001B[39m tiempo = end - start\n",
      "\u001B[36mCell\u001B[39m\u001B[36m \u001B[39m\u001B[32mIn[57]\u001B[39m\u001B[32m, line 24\u001B[39m, in \u001B[36mmultiplicar_matrices\u001B[39m\u001B[34m(A, B)\u001B[39m\n\u001B[32m     22\u001B[39m     \u001B[38;5;28;01mfor\u001B[39;00m j \u001B[38;5;129;01min\u001B[39;00m \u001B[38;5;28mrange\u001B[39m(cols_B):\n\u001B[32m     23\u001B[39m         \u001B[38;5;28;01mfor\u001B[39;00m k \u001B[38;5;129;01min\u001B[39;00m \u001B[38;5;28mrange\u001B[39m(cols_A):\n\u001B[32m---> \u001B[39m\u001B[32m24\u001B[39m             matriz_resultado[i][j] += A[i][k] * B[k][j]\n\u001B[32m     26\u001B[39m \u001B[38;5;28;01mreturn\u001B[39;00m matriz_resultado\n",
      "\u001B[31mKeyboardInterrupt\u001B[39m: "
     ]
    }
   ],
   "execution_count": 64
  },
  {
   "cell_type": "markdown",
   "metadata": {},
   "source": [
    "# Tardamos más de un minuto completo en multiplicar dos matrices de 1000x1000\n",
    "\n",
    "---\n",
    "\n",
    "## Implementación con Numpy\n",
    "\n",
    "Veamos qué tanto mejora el rendimiento de multiplicación de matrices cuando implementamos numpy. \n",
    "\n",
    "Primero, creemos una función para generar matrices:"
   ]
  },
  {
   "cell_type": "code",
   "metadata": {
    "ExecuteTime": {
     "end_time": "2025-10-24T19:38:20.413684Z",
     "start_time": "2025-10-24T19:38:20.405884Z"
    }
   },
   "source": [
    "def generar_matriz_aleatoria_numpy(N):\n",
    "    return np.random.randint(1, 10, size=(N, N))"
   ],
   "outputs": [],
   "execution_count": 66
  },
  {
   "cell_type": "markdown",
   "metadata": {},
   "source": [
    "**No te preocupes por la sintaxis de Numpy. La revisaremos más adelante 😎**"
   ]
  },
  {
   "cell_type": "code",
   "metadata": {
    "ExecuteTime": {
     "end_time": "2025-10-24T19:38:22.238099Z",
     "start_time": "2025-10-24T19:38:22.202638Z"
    }
   },
   "source": [
    "m_1000 = generar_matriz_aleatoria_numpy(1000)"
   ],
   "outputs": [],
   "execution_count": 67
  },
  {
   "cell_type": "markdown",
   "metadata": {},
   "source": [
    "**Para multiplicar matrices en numpy, podemos utilizar la función `np.dot`, o bien, el operador `@`**"
   ]
  },
  {
   "cell_type": "code",
   "metadata": {
    "ExecuteTime": {
     "end_time": "2025-10-24T19:38:25.479416Z",
     "start_time": "2025-10-24T19:38:23.621428Z"
    }
   },
   "source": [
    "start = time.time()\n",
    "np.dot(m_1000, m_1000)\n",
    "# o bien, m_1000 @ m_1000\n",
    "end = time.time()\n",
    "tiempo = end - start\n",
    "print(f\"Multiplicar dos matrices de 1000x1000 con Numpy tardó {tiempo} seg.\")"
   ],
   "outputs": [
    {
     "name": "stdout",
     "output_type": "stream",
     "text": [
      "Multiplicar dos matrices de 1000x1000 con Numpy tardó 1.848994255065918 seg.\n"
     ]
    }
   ],
   "execution_count": 68
  },
  {
   "cell_type": "markdown",
   "metadata": {},
   "source": [
    "---\n",
    "\n",
    "## Arreglos de 2 dimensiones\n",
    "Un arreglo de dos dimensiones es lo mismo que una matriz de $m \\times n$. Una matriz es la forma más adecauda de representar datos tabulares, Numpy hace su manejo sumamente fácil. Comencemos por crear una matriz de $3 \\times 3$\n",
    "\n",
    "Queremos hacer la siguiente matriz:\n",
    "$$ \\begin{bmatrix}\n",
    "0 & 1 & 2 \\\\\n",
    "3 & 4 & 5 \\\\\n",
    "6 & 7 & 8\n",
    "\\end{bmatrix} $$"
   ]
  },
  {
   "cell_type": "code",
   "metadata": {
    "ExecuteTime": {
     "end_time": "2025-10-24T19:38:42.155321Z",
     "start_time": "2025-10-24T19:38:42.135982Z"
    }
   },
   "source": [
    "list2 = [[0,1,2], [3,4,5], [6,7,8]]\n",
    "arr2d = np.array(list2)\n",
    "arr2d"
   ],
   "outputs": [
    {
     "data": {
      "text/plain": [
       "array([[0, 1, 2],\n",
       "       [3, 4, 5],\n",
       "       [6, 7, 8]])"
      ]
     },
     "execution_count": 69,
     "metadata": {},
     "output_type": "execute_result"
    }
   ],
   "execution_count": 69
  },
  {
   "cell_type": "markdown",
   "metadata": {},
   "source": [
    "Podemos especificar el tipo de dato cuando creamos nuestro `ndarray`, por lo general Numpy infiere el tipo de dato"
   ]
  },
  {
   "cell_type": "code",
   "metadata": {
    "ExecuteTime": {
     "end_time": "2025-10-24T19:38:45.793111Z",
     "start_time": "2025-10-24T19:38:45.782215Z"
    }
   },
   "source": [
    "arr2d_f = np.array(list2, dtype='float')\n",
    "arr2d_f"
   ],
   "outputs": [
    {
     "data": {
      "text/plain": [
       "array([[0., 1., 2.],\n",
       "       [3., 4., 5.],\n",
       "       [6., 7., 8.]])"
      ]
     },
     "execution_count": 70,
     "metadata": {},
     "output_type": "execute_result"
    }
   ],
   "execution_count": 70
  },
  {
   "cell_type": "code",
   "metadata": {
    "ExecuteTime": {
     "end_time": "2025-10-24T19:38:47.253580Z",
     "start_time": "2025-10-24T19:38:47.244294Z"
    }
   },
   "source": [
    "#convertir a enteros nuevamente\n",
    "arr2d_f.astype('int')"
   ],
   "outputs": [
    {
     "data": {
      "text/plain": [
       "array([[0, 1, 2],\n",
       "       [3, 4, 5],\n",
       "       [6, 7, 8]])"
      ]
     },
     "execution_count": 71,
     "metadata": {},
     "output_type": "execute_result"
    }
   ],
   "execution_count": 71
  },
  {
   "cell_type": "code",
   "metadata": {
    "ExecuteTime": {
     "end_time": "2025-10-24T19:38:48.592964Z",
     "start_time": "2025-10-24T19:38:48.583711Z"
    }
   },
   "source": [
    "# convertir a enteros y luego a strings\n",
    "arr2d_f.astype('int').astype('str')"
   ],
   "outputs": [
    {
     "data": {
      "text/plain": [
       "array([['0', '1', '2'],\n",
       "       ['3', '4', '5'],\n",
       "       ['6', '7', '8']], dtype='<U21')"
      ]
     },
     "execution_count": 72,
     "metadata": {},
     "output_type": "execute_result"
    }
   ],
   "execution_count": 72
  },
  {
   "cell_type": "markdown",
   "metadata": {},
   "source": [
    "Una diferencia importante entre listas y np.arrays es que una lista puede almacenar objetos de diferentes tipos de datos, mientras que un np.array debe ser consistente en el tipo de dato que almacena. Esto se debe al deseo que tenemos por realizar operaciones vectorizadas"
   ]
  },
  {
   "cell_type": "code",
   "metadata": {
    "ExecuteTime": {
     "end_time": "2025-10-24T19:38:51.677386Z",
     "start_time": "2025-10-24T19:38:51.665665Z"
    }
   },
   "source": [
    "# crear un arreglo de valroes lógicos o bools\n",
    "arr2d_b = np.array([1, 0, 10, 11, 12, -1, 0], dtype='bool')\n",
    "arr2d_b"
   ],
   "outputs": [
    {
     "data": {
      "text/plain": [
       "array([ True, False,  True,  True,  True,  True, False])"
      ]
     },
     "execution_count": 73,
     "metadata": {},
     "output_type": "execute_result"
    }
   ],
   "execution_count": 73
  },
  {
   "cell_type": "markdown",
   "metadata": {},
   "source": [
    "Sí existe una forma de mantener la ambigüedad en el tipo de dato de nuestro array. Esto lo podemos logar si especificamos que el tipo de dato es `object`"
   ]
  },
  {
   "cell_type": "code",
   "metadata": {
    "ExecuteTime": {
     "end_time": "2025-10-24T19:38:53.221973Z",
     "start_time": "2025-10-24T19:38:53.211496Z"
    }
   },
   "source": [
    "arr1d_obj = np.array([1, 'a'], dtype='object')\n",
    "arr1d_obj"
   ],
   "outputs": [
    {
     "data": {
      "text/plain": [
       "array([1, 'a'], dtype=object)"
      ]
     },
     "execution_count": 74,
     "metadata": {},
     "output_type": "execute_result"
    }
   ],
   "execution_count": 74
  },
  {
   "cell_type": "markdown",
   "metadata": {},
   "source": [
    "Por último: podemos convertir un `ndarray` a una lista en cualquier momento utilziando el método `tolist()`"
   ]
  },
  {
   "cell_type": "code",
   "metadata": {
    "ExecuteTime": {
     "end_time": "2025-10-24T19:38:54.853614Z",
     "start_time": "2025-10-24T19:38:54.840357Z"
    }
   },
   "source": [
    "lista = arr1d_obj.tolist()\n",
    "lista"
   ],
   "outputs": [
    {
     "data": {
      "text/plain": [
       "[1, 'a']"
      ]
     },
     "execution_count": 75,
     "metadata": {},
     "output_type": "execute_result"
    }
   ],
   "execution_count": 75
  },
  {
   "cell_type": "markdown",
   "metadata": {},
   "source": [
    "O bien `list(numpy.ndarray)`"
   ]
  },
  {
   "cell_type": "code",
   "metadata": {
    "ExecuteTime": {
     "end_time": "2025-10-24T19:38:57.088902Z",
     "start_time": "2025-10-24T19:38:57.078196Z"
    }
   },
   "source": [
    "list(arr1d_obj)"
   ],
   "outputs": [
    {
     "data": {
      "text/plain": [
       "[1, 'a']"
      ]
     },
     "execution_count": 76,
     "metadata": {},
     "output_type": "execute_result"
    }
   ],
   "execution_count": 76
  },
  {
   "cell_type": "markdown",
   "metadata": {
    "editable": true,
    "slideshow": {
     "slide_type": ""
    },
    "tags": []
   },
   "source": [
    "## Tamaño y dimensión de un array\n",
    "Un arreglo tiene dos propiedades básicas que nos dicen mucho acerca de su estructura: tamaño y dimensión.\n",
    "\n",
    "Considemos el arreglo `arr2d`. Éste se creó a partir de una lista de listas. O sea, tiene dos dimensiones. Un arreglo de dos dimensiones se puede mostrar como renglones y columnas, i.e. una matriz.\n",
    "\n",
    "Si hubiéramos creado el array a partir de una lista de lista de listas, entonces serían 3 dimensiones, i.e. un cubo. \n",
    "\n",
    "Supogamos que recibimos un arreglo de numpy que no creamos nosotros. ¿Qué cosas queremos explorar para conocer bien este arreglo?\n",
    "\n",
    "Bueno, unas buenas preguntas que querríamos contestar son:\n",
    "- ¿Cuál es la dimensión del arreglo? ¿es de 1, 2 o más dimensiones? `ndim`\n",
    "- ¿Cuántos elementos hay en cada dimensión? `shape`\n",
    "- ¿Cuál es el tipo de dato? `dtype`\n",
    "- ¿Cuál es el número total de elementos? `size`\n",
    "- Algunos ejemplos/elementos del arreglo\n",
    "\n",
    "Comencemos"
   ]
  },
  {
   "cell_type": "code",
   "metadata": {
    "ExecuteTime": {
     "end_time": "2025-10-24T19:38:59.418728Z",
     "start_time": "2025-10-24T19:38:59.403702Z"
    }
   },
   "source": [
    "# Crear arreglo de dos dimensiones con 3 filas y 4 columnas\n",
    "list2 = [[1, 2, 3, 4],[3, 4, 5, 6], [5, 6, 7, 8]]\n",
    "arr2 = np.array(list2, dtype='float')\n",
    "arr2"
   ],
   "outputs": [
    {
     "data": {
      "text/plain": [
       "array([[1., 2., 3., 4.],\n",
       "       [3., 4., 5., 6.],\n",
       "       [5., 6., 7., 8.]])"
      ]
     },
     "execution_count": 77,
     "metadata": {},
     "output_type": "execute_result"
    }
   ],
   "execution_count": 77
  },
  {
   "cell_type": "code",
   "metadata": {
    "ExecuteTime": {
     "end_time": "2025-10-24T19:39:00.743579Z",
     "start_time": "2025-10-24T19:39:00.732077Z"
    }
   },
   "source": [
    "# shape\n",
    "print('Shape: ', arr2.shape)\n",
    "\n",
    "# dtype\n",
    "print('Datatype: ', arr2.dtype)\n",
    "\n",
    "# size\n",
    "print('Size: ', arr2.size)\n",
    "\n",
    "# ndim\n",
    "print('Num Dimensions: ', arr2.ndim)"
   ],
   "outputs": [
    {
     "name": "stdout",
     "output_type": "stream",
     "text": [
      "Shape:  (3, 4)\n",
      "Datatype:  float64\n",
      "Size:  12\n",
      "Num Dimensions:  2\n"
     ]
    }
   ],
   "execution_count": 78
  },
  {
   "cell_type": "markdown",
   "metadata": {},
   "source": [
    "---\n",
    "\n",
    "## Acceder a los elementos del arreglo\n",
    "Podemos extraer elementos o porciones específicos de un arreglo utilizando índices o `indexing` empezando por $0$. Esto es similar a cómo lo hacemos con listas en Python.\n",
    "\n",
    "Pero a diferencia de las listas, los numpy arrays aceptan (opcionalmente) la misma cantidad de parámetros para indexar que el número de dimensiones que tiene el array.\n",
    "\n",
    "Esto último es algo confuso, y no hay mejor manera que ilustrarlo que con un ejemplo:\n"
   ]
  },
  {
   "cell_type": "code",
   "metadata": {
    "ExecuteTime": {
     "end_time": "2025-10-24T19:39:03.031827Z",
     "start_time": "2025-10-24T19:39:03.021503Z"
    }
   },
   "source": [
    "arr2"
   ],
   "outputs": [
    {
     "data": {
      "text/plain": [
       "array([[1., 2., 3., 4.],\n",
       "       [3., 4., 5., 6.],\n",
       "       [5., 6., 7., 8.]])"
      ]
     },
     "execution_count": 79,
     "metadata": {},
     "output_type": "execute_result"
    }
   ],
   "execution_count": 79
  },
  {
   "cell_type": "markdown",
   "metadata": {},
   "source": [
    "Podemos extraer un elemento específico `(i, j)` en donde `i` es la fila y `j` la columna"
   ]
  },
  {
   "cell_type": "code",
   "metadata": {
    "ExecuteTime": {
     "end_time": "2025-10-24T19:39:05.725408Z",
     "start_time": "2025-10-24T19:39:05.712042Z"
    }
   },
   "source": [
    "arr2[1, 1]"
   ],
   "outputs": [
    {
     "data": {
      "text/plain": [
       "np.float64(4.0)"
      ]
     },
     "execution_count": 80,
     "metadata": {},
     "output_type": "execute_result"
    }
   ],
   "execution_count": 80
  },
  {
   "cell_type": "markdown",
   "metadata": {},
   "source": [
    "También podemos extraer \"rangos\""
   ]
  },
  {
   "cell_type": "code",
   "metadata": {
    "ExecuteTime": {
     "end_time": "2025-10-24T19:39:07.711766Z",
     "start_time": "2025-10-24T19:39:07.701534Z"
    }
   },
   "source": [
    "# Extraer las primeras 3 filas y las primeras 3 columnas\n",
    "arr2[:3, :3]"
   ],
   "outputs": [
    {
     "data": {
      "text/plain": [
       "array([[1., 2., 3.],\n",
       "       [3., 4., 5.],\n",
       "       [5., 6., 7.]])"
      ]
     },
     "execution_count": 81,
     "metadata": {},
     "output_type": "execute_result"
    }
   ],
   "execution_count": 81
  },
  {
   "cell_type": "markdown",
   "metadata": {},
   "source": [
    "Esto **no** se puede hacer en listas"
   ]
  },
  {
   "cell_type": "code",
   "metadata": {
    "ExecuteTime": {
     "end_time": "2025-10-24T19:39:46.012936Z",
     "start_time": "2025-10-24T19:39:46.006198Z"
    }
   },
   "source": "#list2[:2,:2]",
   "outputs": [],
   "execution_count": 82
  },
  {
   "cell_type": "markdown",
   "metadata": {},
   "source": [
    "Adicionalmente, en los numpy arrays existe algo que se llama `boolean indexing` o indexación lógica. Un `boolean index` o índice lógico.\n",
    "\n",
    "Un array de índices lógicos es de exactamente la misma forma (`shape`) que el array que estamos filtrando, sólo que contiene únicamente valores booleanos (`True` o `False`). Los valores que estén en los índices Verdaderos son los que va a arrojar nuestro filtro."
   ]
  },
  {
   "cell_type": "code",
   "metadata": {
    "ExecuteTime": {
     "end_time": "2025-10-24T19:39:48.269083Z",
     "start_time": "2025-10-24T19:39:48.257706Z"
    }
   },
   "source": [
    "arr2"
   ],
   "outputs": [
    {
     "data": {
      "text/plain": [
       "array([[1., 2., 3., 4.],\n",
       "       [3., 4., 5., 6.],\n",
       "       [5., 6., 7., 8.]])"
      ]
     },
     "execution_count": 83,
     "metadata": {},
     "output_type": "execute_result"
    }
   ],
   "execution_count": 83
  },
  {
   "cell_type": "code",
   "metadata": {
    "ExecuteTime": {
     "end_time": "2025-10-24T19:39:49.543231Z",
     "start_time": "2025-10-24T19:39:49.524670Z"
    }
   },
   "source": [
    "#Obtengamos el output booleano de aplicar una comparación a todo nuestro numpy array\n",
    "b = arr2 > 4\n",
    "b"
   ],
   "outputs": [
    {
     "data": {
      "text/plain": [
       "array([[False, False, False, False],\n",
       "       [False, False,  True,  True],\n",
       "       [ True,  True,  True,  True]])"
      ]
     },
     "execution_count": 84,
     "metadata": {},
     "output_type": "execute_result"
    }
   ],
   "execution_count": 84
  },
  {
   "cell_type": "markdown",
   "metadata": {},
   "source": [
    "Como podemos ver, b ahora es una matriz de $3 \\times 4$ con puros valores booleanos. El valor `True` está en todas las  posiciones en las que se cumplió que el elemento era $ > 4$\n",
    "\n",
    "Con esta matriz de valores booleanos, podemos filtrar nuestra matriz original y obtener los valores que estén en posiciones verdaderas,"
   ]
  },
  {
   "cell_type": "code",
   "metadata": {
    "ExecuteTime": {
     "end_time": "2025-10-24T19:39:54.518392Z",
     "start_time": "2025-10-24T19:39:54.502907Z"
    }
   },
   "source": [
    "arr2[b]"
   ],
   "outputs": [
    {
     "data": {
      "text/plain": [
       "array([5., 6., 5., 6., 7., 8.])"
      ]
     },
     "execution_count": 85,
     "metadata": {},
     "output_type": "execute_result"
    }
   ],
   "execution_count": 85
  },
  {
   "cell_type": "markdown",
   "metadata": {},
   "source": [
    "## Valores faltantes e infinitos\n",
    "Es muy común recibir conjuntos de datos que tengan uno que otro valor en NA. Con numpy podemos representar valores faltantes con `np.nan` e infinitos con `np.inf`. Agreguemos algunos de estos valores a `arr2`"
   ]
  },
  {
   "cell_type": "code",
   "metadata": {
    "ExecuteTime": {
     "end_time": "2025-10-24T19:39:58.161727Z",
     "start_time": "2025-10-24T19:39:58.143175Z"
    }
   },
   "source": [
    "arr2[1,1] = np.nan  # no es un número\n",
    "arr2[1,2] = np.inf  # infinito\n",
    "arr2"
   ],
   "outputs": [
    {
     "data": {
      "text/plain": [
       "array([[ 1.,  2.,  3.,  4.],\n",
       "       [ 3., nan, inf,  6.],\n",
       "       [ 5.,  6.,  7.,  8.]])"
      ]
     },
     "execution_count": 86,
     "metadata": {},
     "output_type": "execute_result"
    }
   ],
   "execution_count": 86
  },
  {
   "cell_type": "markdown",
   "metadata": {},
   "source": [
    "Vamos a reemplazar todos los valores `nan` e `inf` con un $-1$"
   ]
  },
  {
   "cell_type": "code",
   "metadata": {
    "ExecuteTime": {
     "end_time": "2025-10-24T19:40:01.414959Z",
     "start_time": "2025-10-24T19:40:01.403442Z"
    }
   },
   "source": [
    "valores_faltantes_bool = np.isnan(arr2) | np.isinf(arr2)"
   ],
   "outputs": [],
   "execution_count": 87
  },
  {
   "cell_type": "code",
   "metadata": {
    "ExecuteTime": {
     "end_time": "2025-10-24T19:40:02.978216Z",
     "start_time": "2025-10-24T19:40:02.964585Z"
    }
   },
   "source": [
    "valores_faltantes_bool"
   ],
   "outputs": [
    {
     "data": {
      "text/plain": [
       "array([[False, False, False, False],\n",
       "       [False,  True,  True, False],\n",
       "       [False, False, False, False]])"
      ]
     },
     "execution_count": 88,
     "metadata": {},
     "output_type": "execute_result"
    }
   ],
   "execution_count": 88
  },
  {
   "cell_type": "code",
   "metadata": {
    "ExecuteTime": {
     "end_time": "2025-10-24T19:40:05.363311Z",
     "start_time": "2025-10-24T19:40:05.351302Z"
    }
   },
   "source": [
    "arr2[valores_faltantes_bool] = -1\n",
    "arr2"
   ],
   "outputs": [
    {
     "data": {
      "text/plain": [
       "array([[ 1.,  2.,  3.,  4.],\n",
       "       [ 3., -1., -1.,  6.],\n",
       "       [ 5.,  6.,  7.,  8.]])"
      ]
     },
     "execution_count": 89,
     "metadata": {},
     "output_type": "execute_result"
    }
   ],
   "execution_count": 89
  },
  {
   "cell_type": "markdown",
   "metadata": {},
   "source": [
    "---\n",
    "\n",
    "## Calcular media, mínimo y máximo\n",
    "\n",
    "Un ndarray viene ya con algunos métodos útiles. Unos de éstos nos permiten calcular medidas básicas"
   ]
  },
  {
   "cell_type": "code",
   "metadata": {
    "ExecuteTime": {
     "end_time": "2025-10-24T19:40:09.315008Z",
     "start_time": "2025-10-24T19:40:09.305208Z"
    }
   },
   "source": [
    "print(\"Hola mundo\")"
   ],
   "outputs": [
    {
     "name": "stdout",
     "output_type": "stream",
     "text": [
      "Hola mundo\n"
     ]
    }
   ],
   "execution_count": 90
  },
  {
   "cell_type": "code",
   "metadata": {
    "ExecuteTime": {
     "end_time": "2025-10-24T19:40:10.065926Z",
     "start_time": "2025-10-24T19:40:10.054782Z"
    }
   },
   "source": [
    "arr2"
   ],
   "outputs": [
    {
     "data": {
      "text/plain": [
       "array([[ 1.,  2.,  3.,  4.],\n",
       "       [ 3., -1., -1.,  6.],\n",
       "       [ 5.,  6.,  7.,  8.]])"
      ]
     },
     "execution_count": 91,
     "metadata": {},
     "output_type": "execute_result"
    }
   ],
   "execution_count": 91
  },
  {
   "cell_type": "code",
   "metadata": {
    "ExecuteTime": {
     "end_time": "2025-10-24T19:40:10.757730Z",
     "start_time": "2025-10-24T19:40:10.743055Z"
    }
   },
   "source": [
    "print(\"Media: \", arr2.mean())\n",
    "print(\"Valor máximo: \", arr2.max())\n",
    "print(\"Valor mínimo: \", arr2.min())"
   ],
   "outputs": [
    {
     "name": "stdout",
     "output_type": "stream",
     "text": [
      "Media:  3.5833333333333335\n",
      "Valor máximo:  8.0\n",
      "Valor mínimo:  -1.0\n"
     ]
    }
   ],
   "execution_count": 92
  },
  {
   "cell_type": "code",
   "metadata": {
    "ExecuteTime": {
     "end_time": "2025-10-24T19:40:11.226570Z",
     "start_time": "2025-10-24T19:40:11.213798Z"
    }
   },
   "source": [
    "arr2"
   ],
   "outputs": [
    {
     "data": {
      "text/plain": [
       "array([[ 1.,  2.,  3.,  4.],\n",
       "       [ 3., -1., -1.,  6.],\n",
       "       [ 5.,  6.,  7.,  8.]])"
      ]
     },
     "execution_count": 93,
     "metadata": {},
     "output_type": "execute_result"
    }
   ],
   "execution_count": 93
  },
  {
   "cell_type": "markdown",
   "metadata": {},
   "source": [
    "Sin embargo, estos valores exploraron toda la matriz. Podemos obtener los mismos valores pero para filas y columnas utilizando `np.amin`"
   ]
  },
  {
   "cell_type": "code",
   "metadata": {
    "ExecuteTime": {
     "end_time": "2025-10-24T19:40:12.509653Z",
     "start_time": "2025-10-24T19:40:12.498403Z"
    }
   },
   "source": [
    "print(\"Valores mínimos en columnas\", np.amin(arr2, axis=0))"
   ],
   "outputs": [
    {
     "name": "stdout",
     "output_type": "stream",
     "text": [
      "Valores mínimos en columnas [ 1. -1. -1.  4.]\n"
     ]
    }
   ],
   "execution_count": 94
  },
  {
   "cell_type": "code",
   "metadata": {
    "ExecuteTime": {
     "end_time": "2025-10-24T19:40:12.941174Z",
     "start_time": "2025-10-24T19:40:12.929061Z"
    }
   },
   "source": [
    "print(\"Valores mínimos en filas: \", np.amin(arr2, axis=1))"
   ],
   "outputs": [
    {
     "name": "stdout",
     "output_type": "stream",
     "text": [
      "Valores mínimos en filas:  [ 1. -1.  5.]\n"
     ]
    }
   ],
   "execution_count": 95
  },
  {
   "cell_type": "code",
   "metadata": {
    "ExecuteTime": {
     "end_time": "2025-10-24T19:40:13.225081Z",
     "start_time": "2025-10-24T19:40:13.210678Z"
    }
   },
   "source": [
    "arr2"
   ],
   "outputs": [
    {
     "data": {
      "text/plain": [
       "array([[ 1.,  2.,  3.,  4.],\n",
       "       [ 3., -1., -1.,  6.],\n",
       "       [ 5.,  6.,  7.,  8.]])"
      ]
     },
     "execution_count": 96,
     "metadata": {},
     "output_type": "execute_result"
    }
   ],
   "execution_count": 96
  },
  {
   "cell_type": "markdown",
   "metadata": {},
   "source": [
    "---\n",
    "\n",
    "## Crear un arreglo a partir de otro arreglo\n",
    "En Numpy la alocación de memoria sigue la misma lógica que en Python: si asignamos una porción de un array a una nueva variable, y modificamos elementos de esta nueva variable, entonces los cambios se verán reflejados también en nuestro array original. Para evitar este comportamiento (si eso es lo que queremos) utilizamos el método `copy()`."
   ]
  },
  {
   "cell_type": "code",
   "metadata": {
    "ExecuteTime": {
     "end_time": "2025-10-24T19:40:13.704892Z",
     "start_time": "2025-10-24T19:40:13.695858Z"
    }
   },
   "source": [
    "arr2_nuevo = arr2[:2,:2]  \n",
    "arr2_nuevo[:1, :1] = 100  # el 100 se va a reflejar también en el array original arr2"
   ],
   "outputs": [],
   "execution_count": 97
  },
  {
   "cell_type": "code",
   "metadata": {
    "ExecuteTime": {
     "end_time": "2025-10-24T19:40:13.833495Z",
     "start_time": "2025-10-24T19:40:13.823684Z"
    }
   },
   "source": [
    "# Veamos arr2 (original)\n",
    "arr2"
   ],
   "outputs": [
    {
     "data": {
      "text/plain": [
       "array([[100.,   2.,   3.,   4.],\n",
       "       [  3.,  -1.,  -1.,   6.],\n",
       "       [  5.,   6.,   7.,   8.]])"
      ]
     },
     "execution_count": 98,
     "metadata": {},
     "output_type": "execute_result"
    }
   ],
   "execution_count": 98
  },
  {
   "cell_type": "markdown",
   "metadata": {},
   "source": [
    "Y ahora veamos `arr2_nuevo`"
   ]
  },
  {
   "cell_type": "code",
   "metadata": {
    "ExecuteTime": {
     "end_time": "2025-10-24T19:40:14.320963Z",
     "start_time": "2025-10-24T19:40:14.309454Z"
    }
   },
   "source": [
    "arr2_nuevo"
   ],
   "outputs": [
    {
     "data": {
      "text/plain": [
       "array([[100.,   2.],\n",
       "       [  3.,  -1.]])"
      ]
     },
     "execution_count": 99,
     "metadata": {},
     "output_type": "execute_result"
    }
   ],
   "execution_count": 99
  },
  {
   "cell_type": "code",
   "metadata": {
    "ExecuteTime": {
     "end_time": "2025-10-24T19:40:14.703126Z",
     "start_time": "2025-10-24T19:40:14.689543Z"
    }
   },
   "source": [
    "#Para evitar esto vamos a usar copy\n",
    "arr2_nuevo_2 = arr2[:2, :2].copy()\n",
    "arr2_nuevo_2[0, 0] = 102  # 102 no saldrá en arr2\n",
    "arr2"
   ],
   "outputs": [
    {
     "data": {
      "text/plain": [
       "array([[100.,   2.,   3.,   4.],\n",
       "       [  3.,  -1.,  -1.,   6.],\n",
       "       [  5.,   6.,   7.,   8.]])"
      ]
     },
     "execution_count": 100,
     "metadata": {},
     "output_type": "execute_result"
    }
   ],
   "execution_count": 100
  },
  {
   "cell_type": "code",
   "metadata": {
    "ExecuteTime": {
     "end_time": "2025-10-24T19:40:15.530079Z",
     "start_time": "2025-10-24T19:40:15.518720Z"
    }
   },
   "source": [
    "arr2_nuevo_2"
   ],
   "outputs": [
    {
     "data": {
      "text/plain": [
       "array([[102.,   2.],\n",
       "       [  3.,  -1.]])"
      ]
     },
     "execution_count": 101,
     "metadata": {},
     "output_type": "execute_result"
    }
   ],
   "execution_count": 101
  },
  {
   "cell_type": "markdown",
   "metadata": {},
   "source": [
    "---\n",
    "\n",
    "## Crear secuencias, repeticiones y números aleatorios\n",
    "\n",
    "`np.arange`"
   ]
  },
  {
   "cell_type": "code",
   "metadata": {
    "ExecuteTime": {
     "end_time": "2025-10-24T19:40:15.903925Z",
     "start_time": "2025-10-24T19:40:15.895399Z"
    }
   },
   "source": [
    "# El límite inferior es 0 por defecto\n",
    "print(np.arange(5))\n",
    "nuevo_arr = np.arange(10)"
   ],
   "outputs": [
    {
     "name": "stdout",
     "output_type": "stream",
     "text": [
      "[0 1 2 3 4]\n"
     ]
    }
   ],
   "execution_count": 102
  },
  {
   "cell_type": "code",
   "metadata": {
    "ExecuteTime": {
     "end_time": "2025-10-24T19:40:16.236592Z",
     "start_time": "2025-10-24T19:40:16.223075Z"
    }
   },
   "source": [
    "type(nuevo_arr)"
   ],
   "outputs": [
    {
     "data": {
      "text/plain": [
       "numpy.ndarray"
      ]
     },
     "execution_count": 103,
     "metadata": {},
     "output_type": "execute_result"
    }
   ],
   "execution_count": 103
  },
  {
   "cell_type": "code",
   "metadata": {
    "ExecuteTime": {
     "end_time": "2025-10-24T19:40:16.535171Z",
     "start_time": "2025-10-24T19:40:16.523235Z"
    }
   },
   "source": [
    "# 0 a 9\n",
    "print(np.arange(5, 100))"
   ],
   "outputs": [
    {
     "name": "stdout",
     "output_type": "stream",
     "text": [
      "[ 5  6  7  8  9 10 11 12 13 14 15 16 17 18 19 20 21 22 23 24 25 26 27 28\n",
      " 29 30 31 32 33 34 35 36 37 38 39 40 41 42 43 44 45 46 47 48 49 50 51 52\n",
      " 53 54 55 56 57 58 59 60 61 62 63 64 65 66 67 68 69 70 71 72 73 74 75 76\n",
      " 77 78 79 80 81 82 83 84 85 86 87 88 89 90 91 92 93 94 95 96 97 98 99]\n"
     ]
    }
   ],
   "execution_count": 104
  },
  {
   "cell_type": "code",
   "metadata": {
    "ExecuteTime": {
     "end_time": "2025-10-24T19:40:16.719582Z",
     "start_time": "2025-10-24T19:40:16.709116Z"
    }
   },
   "source": [
    "# 0 a 9 de 2 en 2\n",
    "print(np.arange(0, 100, 3.5))  "
   ],
   "outputs": [
    {
     "name": "stdout",
     "output_type": "stream",
     "text": [
      "[ 0.   3.5  7.  10.5 14.  17.5 21.  24.5 28.  31.5 35.  38.5 42.  45.5\n",
      " 49.  52.5 56.  59.5 63.  66.5 70.  73.5 77.  80.5 84.  87.5 91.  94.5\n",
      " 98. ]\n"
     ]
    }
   ],
   "execution_count": 105
  },
  {
   "cell_type": "code",
   "metadata": {
    "ExecuteTime": {
     "end_time": "2025-10-24T19:40:16.901540Z",
     "start_time": "2025-10-24T19:40:16.893539Z"
    }
   },
   "source": [
    "# 10 a 1, en decrementos de 1\n",
    "print(np.arange(10, 0, -1))"
   ],
   "outputs": [
    {
     "name": "stdout",
     "output_type": "stream",
     "text": [
      "[10  9  8  7  6  5  4  3  2  1]\n"
     ]
    }
   ],
   "execution_count": 106
  },
  {
   "cell_type": "markdown",
   "metadata": {},
   "source": [
    "Podemos poner límite inferior y superior con `np.arange`, pero si queremos enfocarnos en el número de elmentos que queremos generar, entonces tenemos que concentrarnos en el valor del incremento/decremento (`step`)\n",
    "\n",
    "Digamos que queremos generar exactamente 10 valores entre 1 y 50. \n",
    "\n",
    "Podemos usar `np.linspace`"
   ]
  },
  {
   "cell_type": "code",
   "metadata": {
    "ExecuteTime": {
     "end_time": "2025-10-24T19:40:17.053616Z",
     "start_time": "2025-10-24T19:40:17.042036Z"
    }
   },
   "source": [
    "# Empieza en 1, terminar en 50, creando 10 números enteros\n",
    "np.linspace(start=1, stop=50, num=20, dtype=int)"
   ],
   "outputs": [
    {
     "data": {
      "text/plain": [
       "array([ 1,  3,  6,  8, 11, 13, 16, 19, 21, 24, 26, 29, 31, 34, 37, 39, 42,\n",
       "       44, 47, 50])"
      ]
     },
     "execution_count": 107,
     "metadata": {},
     "output_type": "execute_result"
    }
   ],
   "execution_count": 107
  },
  {
   "cell_type": "markdown",
   "metadata": {},
   "source": [
    "Un buen observador se dará cuenta que nuestros elementos no están espaciados uniformemente. Esto se debe a que especificamos que el tipo de dato era entero."
   ]
  },
  {
   "cell_type": "markdown",
   "metadata": {},
   "source": [
    "---\n",
    "\n",
    "## Crear arreglos de $1's$ y $0's$\n",
    "\n",
    "A menudo tendremos la necesidad de crear vectores o matrices que tengan únicamente valores de $1$ o $0$. Numpy hace esto muy fácil"
   ]
  },
  {
   "cell_type": "code",
   "metadata": {
    "ExecuteTime": {
     "end_time": "2025-10-24T19:40:24.631857Z",
     "start_time": "2025-10-24T19:40:24.621371Z"
    }
   },
   "source": [
    "np.zeros([2,2])"
   ],
   "outputs": [
    {
     "data": {
      "text/plain": [
       "array([[0., 0.],\n",
       "       [0., 0.]])"
      ]
     },
     "execution_count": 108,
     "metadata": {},
     "output_type": "execute_result"
    }
   ],
   "execution_count": 108
  },
  {
   "cell_type": "code",
   "metadata": {
    "ExecuteTime": {
     "end_time": "2025-10-24T19:40:26.143046Z",
     "start_time": "2025-10-24T19:40:26.118068Z"
    }
   },
   "source": [
    "np.ones([2,2])"
   ],
   "outputs": [
    {
     "data": {
      "text/plain": [
       "array([[1., 1.],\n",
       "       [1., 1.]])"
      ]
     },
     "execution_count": 109,
     "metadata": {},
     "output_type": "execute_result"
    }
   ],
   "execution_count": 109
  },
  {
   "cell_type": "markdown",
   "metadata": {},
   "source": [
    "---\n",
    "\n",
    "## Crear secuencias repetidas"
   ]
  },
  {
   "cell_type": "code",
   "metadata": {
    "ExecuteTime": {
     "end_time": "2025-10-24T19:40:34.540173Z",
     "start_time": "2025-10-24T19:40:34.526535Z"
    }
   },
   "source": [
    "a = [1,2,3] \n",
    "\n",
    "# Repetir todo el arreglo 'a' dos veces\n",
    "print('Tile:   ', np.tile(a, 2))\n",
    "\n",
    "# Repetir cada elemento de 'a' dos veces\n",
    "print('Repeat: ', np.repeat(a, 4))\n"
   ],
   "outputs": [
    {
     "name": "stdout",
     "output_type": "stream",
     "text": [
      "Tile:    [1 2 3 1 2 3]\n",
      "Repeat:  [1 1 1 1 2 2 2 2 3 3 3 3]\n"
     ]
    }
   ],
   "execution_count": 110
  },
  {
   "cell_type": "code",
   "metadata": {
    "ExecuteTime": {
     "end_time": "2025-10-24T19:40:37.418326Z",
     "start_time": "2025-10-24T19:40:37.404495Z"
    }
   },
   "source": [
    "import random\n",
    "random.randint(0,100)"
   ],
   "outputs": [
    {
     "data": {
      "text/plain": [
       "99"
      ]
     },
     "execution_count": 111,
     "metadata": {},
     "output_type": "execute_result"
    }
   ],
   "execution_count": 111
  },
  {
   "cell_type": "markdown",
   "metadata": {},
   "source": [
    "---\n",
    "\n",
    "## Generar números aleatorios\n",
    "Numpy tiene un módulo `random` con funciones últiles para generar números aleatorios de cualquier `shape`"
   ]
  },
  {
   "cell_type": "code",
   "metadata": {
    "ExecuteTime": {
     "end_time": "2025-10-24T19:40:44.774317Z",
     "start_time": "2025-10-24T19:40:44.761673Z"
    }
   },
   "source": [
    "\n",
    "print(\"Números aleatorios entre [0,1) de tamaño  2,2\")\n",
    "print(np.random.rand(3,5))"
   ],
   "outputs": [
    {
     "name": "stdout",
     "output_type": "stream",
     "text": [
      "Números aleatorios entre [0,1) de tamaño  2,2\n",
      "[[0.01793598 0.12836625 0.59156868 0.98410265 0.48796551]\n",
      " [0.37239754 0.32013129 0.52990923 0.38794268 0.84817591]\n",
      " [0.93503187 0.21156886 0.98121393 0.17120785 0.29306773]]\n"
     ]
    }
   ],
   "execution_count": 112
  },
  {
   "cell_type": "code",
   "metadata": {
    "ExecuteTime": {
     "end_time": "2025-10-24T19:40:46.286606Z",
     "start_time": "2025-10-24T19:40:46.262778Z"
    }
   },
   "source": [
    "print(\"Números aleatorios de una distribución normal con media=0 y varianza=1 de tamaño 2,2\")\n",
    "print(np.random.randn(2,2))"
   ],
   "outputs": [
    {
     "name": "stdout",
     "output_type": "stream",
     "text": [
      "Números aleatorios de una distribución normal con media=0 y varianza=1 de tamaño 2,2\n",
      "[[-2.68288109  0.9080487 ]\n",
      " [-2.17723045  0.11028057]]\n"
     ]
    }
   ],
   "execution_count": 113
  },
  {
   "cell_type": "code",
   "metadata": {
    "ExecuteTime": {
     "end_time": "2025-10-24T19:40:47.479820Z",
     "start_time": "2025-10-24T19:40:47.469363Z"
    }
   },
   "source": [
    "print(\"Enteros aleatorios entre [0,10) de tamaño 2,2\")\n",
    "print(np.random.randint(0, 100, size=[5,5]))"
   ],
   "outputs": [
    {
     "name": "stdout",
     "output_type": "stream",
     "text": [
      "Enteros aleatorios entre [0,10) de tamaño 2,2\n",
      "[[79 90 52 12 33]\n",
      " [82 42 91 70 14]\n",
      " [74 63 99 63 77]\n",
      " [14 76  3 60 99]\n",
      " [31 33 40 33 85]]\n"
     ]
    }
   ],
   "execution_count": 114
  },
  {
   "cell_type": "code",
   "metadata": {
    "ExecuteTime": {
     "end_time": "2025-10-24T19:40:48.362674Z",
     "start_time": "2025-10-24T19:40:48.352742Z"
    }
   },
   "source": [
    "print(\"Genera un número aleatorio entre [0,1)\")\n",
    "print(np.random.random())"
   ],
   "outputs": [
    {
     "name": "stdout",
     "output_type": "stream",
     "text": [
      "Genera un número aleatorio entre [0,1)\n",
      "0.044766387899356164\n"
     ]
    }
   ],
   "execution_count": 115
  },
  {
   "cell_type": "code",
   "metadata": {
    "ExecuteTime": {
     "end_time": "2025-10-24T19:40:51.013661Z",
     "start_time": "2025-10-24T19:40:50.999845Z"
    }
   },
   "source": [
    "print(\"Elige 10 elementos de una lista (los resultados son equiprobables)\")\n",
    "print(np.random.choice(['Cara', 'Sol'], size=10))  "
   ],
   "outputs": [
    {
     "name": "stdout",
     "output_type": "stream",
     "text": [
      "Elige 10 elementos de una lista (los resultados son equiprobables)\n",
      "['Cara' 'Cara' 'Cara' 'Cara' 'Cara' 'Sol' 'Cara' 'Sol' 'Cara' 'Cara']\n"
     ]
    }
   ],
   "execution_count": 116
  },
  {
   "cell_type": "code",
   "metadata": {
    "ExecuteTime": {
     "end_time": "2025-10-24T19:40:52.155320Z",
     "start_time": "2025-10-24T19:40:52.141855Z"
    }
   },
   "source": [
    "print(\"Elige 10 elementos de una lista. Cada uno con una probablidad p\")\n",
    "print(np.random.choice(['Cara', 'Sol'], size=10, p=[0.2, .8]))"
   ],
   "outputs": [
    {
     "name": "stdout",
     "output_type": "stream",
     "text": [
      "Elige 10 elementos de una lista. Cada uno con una probablidad p\n",
      "['Sol' 'Cara' 'Sol' 'Sol' 'Sol' 'Sol' 'Sol' 'Sol' 'Sol' 'Sol']\n"
     ]
    }
   ],
   "execution_count": 117
  },
  {
   "cell_type": "markdown",
   "metadata": {},
   "source": [
    "Cada que corramos el código anterior, obtendremos valores diferentes ya que estamos generando números aleatorios.\n",
    "\n",
    "Existen casos en los que queremos números pseudoaleatorios para poder reproducir nuestros resultados. Para esto utlizamos una semilla"
   ]
  },
  {
   "cell_type": "code",
   "metadata": {
    "ExecuteTime": {
     "end_time": "2025-10-24T19:41:15.086980Z",
     "start_time": "2025-10-24T19:41:15.074062Z"
    }
   },
   "source": [
    "# ponemos una semilla 100 para reproducibilidad\n",
    "np.random.seed(100)\n",
    "print(np.random.rand(2,2))"
   ],
   "outputs": [
    {
     "name": "stdout",
     "output_type": "stream",
     "text": [
      "[[0.54340494 0.27836939]\n",
      " [0.42451759 0.84477613]]\n"
     ]
    }
   ],
   "execution_count": 118
  },
  {
   "cell_type": "markdown",
   "metadata": {},
   "source": [
    "En todo script de python, si colocamos una semilla de 100 y ejecutamos `np.random.rand(2,2)` deberíamos obtener exactamente el mismo resultado. Esto es útil porque la reproducibilidad es indispensable en investigación. O sea, queremos que otras personas sean capaces de reproducir nuestros resultados."
   ]
  },
  {
   "cell_type": "markdown",
   "metadata": {},
   "source": [
    "---\n",
    "## Obtener valores únicos y frecuencias absolutas"
   ]
  },
  {
   "cell_type": "code",
   "metadata": {
    "ExecuteTime": {
     "end_time": "2025-10-24T19:41:17.813174Z",
     "start_time": "2025-10-24T19:41:17.800815Z"
    }
   },
   "source": [
    "np.random.seed(1)\n",
    "arr_rand = np.random.randint(0, 10, size=100)\n",
    "arr_rand"
   ],
   "outputs": [
    {
     "data": {
      "text/plain": [
       "array([5, 8, 9, 5, 0, 0, 1, 7, 6, 9, 2, 4, 5, 2, 4, 2, 4, 7, 7, 9, 1, 7,\n",
       "       0, 6, 9, 9, 7, 6, 9, 1, 0, 1, 8, 8, 3, 9, 8, 7, 3, 6, 5, 1, 9, 3,\n",
       "       4, 8, 1, 4, 0, 3, 9, 2, 0, 4, 9, 2, 7, 7, 9, 8, 6, 9, 3, 7, 7, 4,\n",
       "       5, 9, 3, 6, 8, 0, 2, 7, 7, 9, 7, 3, 0, 8, 7, 7, 1, 1, 3, 0, 8, 6,\n",
       "       4, 5, 6, 2, 5, 7, 8, 4, 4, 7, 7, 4], dtype=int32)"
      ]
     },
     "execution_count": 119,
     "metadata": {},
     "output_type": "execute_result"
    }
   ],
   "execution_count": 119
  },
  {
   "cell_type": "code",
   "metadata": {
    "ExecuteTime": {
     "end_time": "2025-10-24T19:41:18.634079Z",
     "start_time": "2025-10-24T19:41:18.621394Z"
    }
   },
   "source": [
    "vals_unicos, frecuencias = np.unique(arr_rand, return_counts=True)\n",
    "print(\"Elementos únicos: \", vals_unicos)\n",
    "print(\"Frecuencias      :\", frecuencias)"
   ],
   "outputs": [
    {
     "name": "stdout",
     "output_type": "stream",
     "text": [
      "Elementos únicos:  [0 1 2 3 4 5 6 7 8 9]\n",
      "Frecuencias      : [ 9  8  7  8 11  7  8 18 10 14]\n"
     ]
    }
   ],
   "execution_count": 120
  },
  {
   "cell_type": "code",
   "metadata": {
    "ExecuteTime": {
     "end_time": "2025-10-24T19:41:19.754483Z",
     "start_time": "2025-10-24T19:41:19.727983Z"
    }
   },
   "source": "",
   "outputs": [
    {
     "data": {
      "text/plain": [
       "4294967296"
      ]
     },
     "execution_count": 121,
     "metadata": {},
     "output_type": "execute_result"
    }
   ],
   "execution_count": 121
  }
 ],
 "metadata": {
  "kernelspec": {
   "display_name": "Python 3 (ipykernel)",
   "language": "python",
   "name": "python3"
  },
  "language_info": {
   "codemirror_mode": {
    "name": "ipython",
    "version": 3
   },
   "file_extension": ".py",
   "mimetype": "text/x-python",
   "name": "python",
   "nbconvert_exporter": "python",
   "pygments_lexer": "ipython3",
   "version": "3.12.3"
  }
 },
 "nbformat": 4,
 "nbformat_minor": 4
}
